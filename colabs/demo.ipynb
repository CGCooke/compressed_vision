{
  "cells": [
    {
      "cell_type": "markdown",
      "metadata": {
        "id": "e4V4RT9cqe85"
      },
      "source": [
        "Copyright 2021 DeepMind Technologies Limited\n",
        "\n",
        "Licensed under the Apache License, Version 2.0 (the \"License\");\n",
        "you may not use this file except in compliance with the License.\n",
        "You may obtain a copy of the License at\n",
        "\n",
        "     https://www.apache.org/licenses/LICENSE-2.0\n",
        "\n",
        "Unless required by applicable law or agreed to in writing, software\n",
        "distributed under the License is distributed on an \"AS IS\" BASIS,\n",
        "WITHOUT WARRANTIES OR CONDITIONS OF ANY KIND, either express or implied.\n",
        "See the License for the specific language governing permissions and\n",
        "limitations under the License.\n"
      ]
    },
    {
      "cell_type": "markdown",
      "metadata": {
        "id": "z9fbViWHqiuH"
      },
      "source": [
        "# Video compression\n",
        "Simplified demo showing how to:\n",
        "1. Load a compressed network and apply it to a video\n",
        "2. Load an augmentation and apply it to a video\n",
        "\n",
        "This CoLAB can be run on CPU or GPU. For CPU, we ran it on a machine with 64 GB RAM. On GPU, we ran it on one V100 GPU\n",
        "\n",
        "If running locally, run from the parent directory.\n"
      ]
    },
    {
      "cell_type": "markdown",
      "metadata": {
        "id": "tQqs7_sXq9D0"
      },
      "source": [
        "# Setup"
      ]
    },
    {
      "cell_type": "code",
      "execution_count": 1,
      "metadata": {
        "id": "7z8nRhKDrC7a",
        "colab": {
          "base_uri": "https://localhost:8080/"
        },
        "outputId": "d61f627e-da63-4774-e152-aa971ef50ea4"
      },
      "outputs": [
        {
          "output_type": "stream",
          "name": "stdout",
          "text": [
            "Looking in indexes: https://pypi.org/simple, https://us-python.pkg.dev/colab-wheels/public/simple/\n",
            "Requirement already satisfied: seaborn in /usr/local/lib/python3.8/dist-packages (0.11.2)\n",
            "Requirement already satisfied: numpy>=1.15 in /usr/local/lib/python3.8/dist-packages (from seaborn) (1.21.6)\n",
            "Requirement already satisfied: matplotlib>=2.2 in /usr/local/lib/python3.8/dist-packages (from seaborn) (3.2.2)\n",
            "Requirement already satisfied: pandas>=0.23 in /usr/local/lib/python3.8/dist-packages (from seaborn) (1.3.5)\n",
            "Requirement already satisfied: scipy>=1.0 in /usr/local/lib/python3.8/dist-packages (from seaborn) (1.7.3)\n",
            "Requirement already satisfied: kiwisolver>=1.0.1 in /usr/local/lib/python3.8/dist-packages (from matplotlib>=2.2->seaborn) (1.4.4)\n",
            "Requirement already satisfied: python-dateutil>=2.1 in /usr/local/lib/python3.8/dist-packages (from matplotlib>=2.2->seaborn) (2.8.2)\n",
            "Requirement already satisfied: cycler>=0.10 in /usr/local/lib/python3.8/dist-packages (from matplotlib>=2.2->seaborn) (0.11.0)\n",
            "Requirement already satisfied: pyparsing!=2.0.4,!=2.1.2,!=2.1.6,>=2.0.1 in /usr/local/lib/python3.8/dist-packages (from matplotlib>=2.2->seaborn) (3.0.9)\n",
            "Requirement already satisfied: pytz>=2017.3 in /usr/local/lib/python3.8/dist-packages (from pandas>=0.23->seaborn) (2022.7.1)\n",
            "Requirement already satisfied: six>=1.5 in /usr/local/lib/python3.8/dist-packages (from python-dateutil>=2.1->matplotlib>=2.2->seaborn) (1.15.0)\n",
            "Looking in indexes: https://pypi.org/simple, https://us-python.pkg.dev/colab-wheels/public/simple/\n",
            "Collecting dm-haiku\n",
            "  Downloading dm_haiku-0.0.9-py3-none-any.whl (352 kB)\n",
            "\u001b[2K     \u001b[90m━━━━━━━━━━━━━━━━━━━━━━━━━━━━━━━━━━━━━━━\u001b[0m \u001b[32m352.1/352.1 KB\u001b[0m \u001b[31m5.7 MB/s\u001b[0m eta \u001b[36m0:00:00\u001b[0m\n",
            "\u001b[?25hRequirement already satisfied: absl-py>=0.7.1 in /usr/local/lib/python3.8/dist-packages (from dm-haiku) (1.4.0)\n",
            "Requirement already satisfied: tabulate>=0.8.9 in /usr/local/lib/python3.8/dist-packages (from dm-haiku) (0.8.10)\n",
            "Requirement already satisfied: numpy>=1.18.0 in /usr/local/lib/python3.8/dist-packages (from dm-haiku) (1.21.6)\n",
            "Collecting jmp>=0.0.2\n",
            "  Downloading jmp-0.0.4-py3-none-any.whl (18 kB)\n",
            "Installing collected packages: jmp, dm-haiku\n",
            "Successfully installed dm-haiku-0.0.9 jmp-0.0.4\n",
            "Looking in indexes: https://pypi.org/simple, https://us-python.pkg.dev/colab-wheels/public/simple/\n",
            "Requirement already satisfied: jax in /usr/local/lib/python3.8/dist-packages (0.3.25)\n",
            "Requirement already satisfied: numpy>=1.20 in /usr/local/lib/python3.8/dist-packages (from jax) (1.21.6)\n",
            "Requirement already satisfied: typing-extensions in /usr/local/lib/python3.8/dist-packages (from jax) (4.4.0)\n",
            "Requirement already satisfied: opt-einsum in /usr/local/lib/python3.8/dist-packages (from jax) (3.3.0)\n",
            "Requirement already satisfied: scipy>=1.5 in /usr/local/lib/python3.8/dist-packages (from jax) (1.7.3)\n",
            "Looking in indexes: https://pypi.org/simple, https://us-python.pkg.dev/colab-wheels/public/simple/\n",
            "Collecting chex\n",
            "  Downloading chex-0.1.6-py3-none-any.whl (87 kB)\n",
            "\u001b[2K     \u001b[90m━━━━━━━━━━━━━━━━━━━━━━━━━━━━━━━━━━━━━━━━\u001b[0m \u001b[32m87.9/87.9 KB\u001b[0m \u001b[31m2.4 MB/s\u001b[0m eta \u001b[36m0:00:00\u001b[0m\n",
            "\u001b[?25hRequirement already satisfied: dm-tree>=0.1.5 in /usr/local/lib/python3.8/dist-packages (from chex) (0.1.8)\n",
            "Requirement already satisfied: jaxlib>=0.1.37 in /usr/local/lib/python3.8/dist-packages (from chex) (0.3.25+cuda11.cudnn805)\n",
            "Requirement already satisfied: toolz>=0.9.0 in /usr/local/lib/python3.8/dist-packages (from chex) (0.12.0)\n",
            "Requirement already satisfied: absl-py>=0.9.0 in /usr/local/lib/python3.8/dist-packages (from chex) (1.4.0)\n",
            "Requirement already satisfied: typing-extensions>=4.2.0 in /usr/local/lib/python3.8/dist-packages (from chex) (4.4.0)\n",
            "Requirement already satisfied: jax>=0.1.55 in /usr/local/lib/python3.8/dist-packages (from chex) (0.3.25)\n",
            "Requirement already satisfied: numpy>=1.18.0 in /usr/local/lib/python3.8/dist-packages (from chex) (1.21.6)\n",
            "Requirement already satisfied: scipy>=1.5 in /usr/local/lib/python3.8/dist-packages (from jax>=0.1.55->chex) (1.7.3)\n",
            "Requirement already satisfied: opt-einsum in /usr/local/lib/python3.8/dist-packages (from jax>=0.1.55->chex) (3.3.0)\n",
            "Installing collected packages: chex\n",
            "Successfully installed chex-0.1.6\n",
            "Looking in indexes: https://pypi.org/simple, https://us-python.pkg.dev/colab-wheels/public/simple/\n",
            "Requirement already satisfied: pillow in /usr/local/lib/python3.8/dist-packages (7.1.2)\n",
            "Looking in indexes: https://pypi.org/simple, https://us-python.pkg.dev/colab-wheels/public/simple/\n",
            "Collecting ml-collections\n",
            "  Downloading ml_collections-0.1.1.tar.gz (77 kB)\n",
            "\u001b[2K     \u001b[90m━━━━━━━━━━━━━━━━━━━━━━━━━━━━━━━━━━━━━━━━\u001b[0m \u001b[32m77.9/77.9 KB\u001b[0m \u001b[31m3.1 MB/s\u001b[0m eta \u001b[36m0:00:00\u001b[0m\n",
            "\u001b[?25h  Preparing metadata (setup.py) ... \u001b[?25l\u001b[?25hdone\n",
            "Requirement already satisfied: absl-py in /usr/local/lib/python3.8/dist-packages (from ml-collections) (1.4.0)\n",
            "Requirement already satisfied: PyYAML in /usr/local/lib/python3.8/dist-packages (from ml-collections) (6.0)\n",
            "Requirement already satisfied: six in /usr/local/lib/python3.8/dist-packages (from ml-collections) (1.15.0)\n",
            "Requirement already satisfied: contextlib2 in /usr/local/lib/python3.8/dist-packages (from ml-collections) (0.5.5)\n",
            "Building wheels for collected packages: ml-collections\n",
            "  Building wheel for ml-collections (setup.py) ... \u001b[?25l\u001b[?25hdone\n",
            "  Created wheel for ml-collections: filename=ml_collections-0.1.1-py3-none-any.whl size=94524 sha256=83b324262e06557771d9d745191166b45c2468202603e500c28e1dd12473d363\n",
            "  Stored in directory: /root/.cache/pip/wheels/6d/9f/a9/9e8309035a5bf09ed9086bbca8c9b74cb6413d3eb203e2bc8c\n",
            "Successfully built ml-collections\n",
            "Installing collected packages: ml-collections\n",
            "Successfully installed ml-collections-0.1.1\n"
          ]
        }
      ],
      "source": [
        "# @title Installation.\n",
        "# @markdown This can be skipped if you have installed and are running this locally.\n",
        "\n",
        "!pip install seaborn\n",
        "!pip install dm-haiku\n",
        "!pip install jax\n",
        "!pip install chex\n",
        "!pip install pillow\n",
        "!pip install ml-collections"
      ]
    },
    {
      "cell_type": "code",
      "execution_count": 15,
      "metadata": {
        "id": "PuiWoOFirrT4",
        "colab": {
          "base_uri": "https://localhost:8080/"
        },
        "collapsed": true,
        "outputId": "13988a7f-7837-4348-a22f-a1b789ad200c"
      },
      "outputs": [
        {
          "output_type": "stream",
          "name": "stdout",
          "text": [
            "mkdir: cannot create directory ‘/content/compressed_vision’: File exists\n",
            "mkdir: cannot create directory ‘/content/compressed_vision/models/’: File exists\n",
            "mkdir: cannot create directory ‘/content/compressed_vision/utils/’: File exists\n",
            "--2023-02-10 14:48:02--  https://raw.githubusercontent.com/deepmind/compressed_vision/main/models/equivariant_networks.py\n",
            "Resolving raw.githubusercontent.com (raw.githubusercontent.com)... 185.199.108.133, 185.199.109.133, 185.199.110.133, ...\n",
            "Connecting to raw.githubusercontent.com (raw.githubusercontent.com)|185.199.108.133|:443... connected.\n",
            "HTTP request sent, awaiting response... 200 OK\n",
            "Length: 3143 (3.1K) [text/plain]\n",
            "Saving to: ‘/content/compressed_vision/models/equivariant_networks.py’\n",
            "\n",
            "/content/compressed 100%[===================>]   3.07K  --.-KB/s    in 0s      \n",
            "\n",
            "2023-02-10 14:48:02 (35.7 MB/s) - ‘/content/compressed_vision/models/equivariant_networks.py’ saved [3143/3143]\n",
            "\n",
            "--2023-02-10 14:48:02--  https://raw.githubusercontent.com/deepmind/compressed_vision/main/models/encoder_decoder_unet.py\n",
            "Resolving raw.githubusercontent.com (raw.githubusercontent.com)... 185.199.109.133, 185.199.108.133, 185.199.111.133, ...\n",
            "Connecting to raw.githubusercontent.com (raw.githubusercontent.com)|185.199.109.133|:443... connected.\n",
            "HTTP request sent, awaiting response... 200 OK\n",
            "Length: 12480 (12K) [text/plain]\n",
            "Saving to: ‘/content/compressed_vision/models/encoder_decoder_unet.py’\n",
            "\n",
            "/content/compressed 100%[===================>]  12.19K  --.-KB/s    in 0s      \n",
            "\n",
            "2023-02-10 14:48:02 (66.1 MB/s) - ‘/content/compressed_vision/models/encoder_decoder_unet.py’ saved [12480/12480]\n",
            "\n",
            "--2023-02-10 14:48:02--  https://raw.githubusercontent.com/deepmind/compressed_vision/main/models/i3d.py\n",
            "Resolving raw.githubusercontent.com (raw.githubusercontent.com)... 185.199.108.133, 185.199.110.133, 185.199.109.133, ...\n",
            "Connecting to raw.githubusercontent.com (raw.githubusercontent.com)|185.199.108.133|:443... connected.\n",
            "HTTP request sent, awaiting response... 200 OK\n",
            "Length: 4196 (4.1K) [text/plain]\n",
            "Saving to: ‘/content/compressed_vision/models/i3d.py’\n",
            "\n",
            "/content/compressed 100%[===================>]   4.10K  --.-KB/s    in 0s      \n",
            "\n",
            "2023-02-10 14:48:02 (36.3 MB/s) - ‘/content/compressed_vision/models/i3d.py’ saved [4196/4196]\n",
            "\n",
            "--2023-02-10 14:48:02--  https://raw.githubusercontent.com/deepmind/compressed_vision/main/models/normalization.py\n",
            "Resolving raw.githubusercontent.com (raw.githubusercontent.com)... 185.199.108.133, 185.199.109.133, 185.199.110.133, ...\n",
            "Connecting to raw.githubusercontent.com (raw.githubusercontent.com)|185.199.108.133|:443... connected.\n",
            "HTTP request sent, awaiting response... 200 OK\n",
            "Length: 2917 (2.8K) [text/plain]\n",
            "Saving to: ‘/content/compressed_vision/models/normalization.py’\n",
            "\n",
            "/content/compressed 100%[===================>]   2.85K  --.-KB/s    in 0s      \n",
            "\n",
            "2023-02-10 14:48:02 (36.4 MB/s) - ‘/content/compressed_vision/models/normalization.py’ saved [2917/2917]\n",
            "\n",
            "--2023-02-10 14:48:02--  https://raw.githubusercontent.com/deepmind/compressed_vision/main/models/transformer.py\n",
            "Resolving raw.githubusercontent.com (raw.githubusercontent.com)... 185.199.110.133, 185.199.108.133, 185.199.109.133, ...\n",
            "Connecting to raw.githubusercontent.com (raw.githubusercontent.com)|185.199.110.133|:443... connected.\n",
            "HTTP request sent, awaiting response... 200 OK\n",
            "Length: 12241 (12K) [text/plain]\n",
            "Saving to: ‘/content/compressed_vision/models/transformer.py’\n",
            "\n",
            "/content/compressed 100%[===================>]  11.95K  --.-KB/s    in 0s      \n",
            "\n",
            "2023-02-10 14:48:02 (68.5 MB/s) - ‘/content/compressed_vision/models/transformer.py’ saved [12241/12241]\n",
            "\n",
            "--2023-02-10 14:48:02--  https://raw.githubusercontent.com/deepmind/compressed_vision/main/utils/checkpoint_loader.py\n",
            "Resolving raw.githubusercontent.com (raw.githubusercontent.com)... 185.199.108.133, 185.199.110.133, 185.199.109.133, ...\n",
            "Connecting to raw.githubusercontent.com (raw.githubusercontent.com)|185.199.108.133|:443... connected.\n",
            "HTTP request sent, awaiting response... 200 OK\n",
            "Length: 1127 (1.1K) [text/plain]\n",
            "Saving to: ‘/content/compressed_vision/utils/checkpoint_loader.py’\n",
            "\n",
            "/content/compressed 100%[===================>]   1.10K  --.-KB/s    in 0s      \n",
            "\n",
            "2023-02-10 14:48:02 (61.6 MB/s) - ‘/content/compressed_vision/utils/checkpoint_loader.py’ saved [1127/1127]\n",
            "\n",
            "--2023-02-10 14:48:02--  https://raw.githubusercontent.com/deepmind/compressed_vision/main/utils/data_utils.py\n",
            "Resolving raw.githubusercontent.com (raw.githubusercontent.com)... 185.199.108.133, 185.199.109.133, 185.199.110.133, ...\n",
            "Connecting to raw.githubusercontent.com (raw.githubusercontent.com)|185.199.108.133|:443... connected.\n",
            "HTTP request sent, awaiting response... 200 OK\n",
            "Length: 1928 (1.9K) [text/plain]\n",
            "Saving to: ‘/content/compressed_vision/utils/data_utils.py’\n",
            "\n",
            "/content/compressed 100%[===================>]   1.88K  --.-KB/s    in 0s      \n",
            "\n",
            "2023-02-10 14:48:03 (39.1 MB/s) - ‘/content/compressed_vision/utils/data_utils.py’ saved [1928/1928]\n",
            "\n",
            "--2023-02-10 14:48:03--  https://raw.githubusercontent.com/deepmind/compressed_vision/main/utils/metric_utils.py\n",
            "Resolving raw.githubusercontent.com (raw.githubusercontent.com)... 185.199.108.133, 185.199.109.133, 185.199.110.133, ...\n",
            "Connecting to raw.githubusercontent.com (raw.githubusercontent.com)|185.199.108.133|:443... connected.\n",
            "HTTP request sent, awaiting response... 200 OK\n",
            "Length: 1129 (1.1K) [text/plain]\n",
            "Saving to: ‘/content/compressed_vision/utils/metric_utils.py’\n",
            "\n",
            "/content/compressed 100%[===================>]   1.10K  --.-KB/s    in 0s      \n",
            "\n",
            "2023-02-10 14:48:03 (36.9 MB/s) - ‘/content/compressed_vision/utils/metric_utils.py’ saved [1129/1129]\n",
            "\n",
            "--2023-02-10 14:48:03--  https://raw.githubusercontent.com/deepmind/compressed_vision/main/utils/video_utils.py\n",
            "Resolving raw.githubusercontent.com (raw.githubusercontent.com)... 185.199.109.133, 185.199.108.133, 185.199.110.133, ...\n",
            "Connecting to raw.githubusercontent.com (raw.githubusercontent.com)|185.199.109.133|:443... connected.\n",
            "HTTP request sent, awaiting response... 200 OK\n",
            "Length: 1617 (1.6K) [text/plain]\n",
            "Saving to: ‘/content/compressed_vision/utils/video_utils.py’\n",
            "\n",
            "/content/compressed 100%[===================>]   1.58K  --.-KB/s    in 0s      \n",
            "\n",
            "2023-02-10 14:48:03 (23.0 MB/s) - ‘/content/compressed_vision/utils/video_utils.py’ saved [1617/1617]\n",
            "\n"
          ]
        }
      ],
      "source": [
        "# @title Installation.\n",
        "# @markdown This can be skipped if you have installed and are running this locally.\n",
        "\n",
        "!mkdir /content/compressed_vision\n",
        "!touch /content/compressed_vision/__init__.py\n",
        "!mkdir /content/compressed_vision/models/\n",
        "!touch /content/compressed_vision/models/__init__.py\n",
        "!mkdir /content/compressed_vision/utils/\n",
        "!touch /content/compressed_vision/utils/__init__.py\n",
        "!wget -O /content/compressed_vision/models/equivariant_networks.py https://raw.githubusercontent.com/deepmind/compressed_vision/main/models/equivariant_networks.py\n",
        "!wget -O /content/compressed_vision/models/encoder_decoder_unet.py https://raw.githubusercontent.com/deepmind/compressed_vision/main/models/encoder_decoder_unet.py\n",
        "!wget -O /content/compressed_vision/models/i3d.py https://raw.githubusercontent.com/deepmind/compressed_vision/main/models/i3d.py\n",
        "!wget -O /content/compressed_vision/models/normalization.py https://raw.githubusercontent.com/deepmind/compressed_vision/main/models/normalization.py\n",
        "!wget -O /content/compressed_vision/models/transformer.py https://raw.githubusercontent.com/deepmind/compressed_vision/main/models/transformer.py\n",
        "!wget -O /content/compressed_vision/utils/checkpoint_loader.py https://raw.githubusercontent.com/deepmind/compressed_vision/main/utils/checkpoint_loader.py\n",
        "!wget -O /content/compressed_vision/utils/data_utils.py https://raw.githubusercontent.com/deepmind/compressed_vision/main/utils/data_utils.py\n",
        "!wget -O /content/compressed_vision/utils/metric_utils.py https://raw.githubusercontent.com/deepmind/compressed_vision/main/utils/metric_utils.py\n",
        "!wget -O /content/compressed_vision/utils/video_utils.py https://raw.githubusercontent.com/deepmind/compressed_vision/main/utils/video_utils.py"
      ]
    },
    {
      "cell_type": "code",
      "execution_count": 16,
      "metadata": {
        "id": "NAQP4Ao1qXxv"
      },
      "outputs": [],
      "source": [
        "# @title Imports\n",
        "import numpy as np\n",
        "import os\n",
        "import seaborn as sns\n",
        "import haiku as hk\n",
        "import jax\n",
        "import jax.numpy as jnp\n",
        "from IPython.display import Image as display_image\n",
        "from PIL import Image\n",
        "\n",
        "from compressed_vision.models import equivariant_networks\n",
        "from compressed_vision.models import encoder_decoder_unet\n",
        "from compressed_vision.utils import checkpoint_loader\n",
        "from compressed_vision.utils import data_utils\n",
        "from compressed_vision.utils import metric_utils\n",
        "from compressed_vision.utils import video_utils\n",
        "\n",
        "\n",
        "sns.set_style(\"whitegrid\")"
      ]
    },
    {
      "cell_type": "markdown",
      "metadata": {
        "id": "6vqUrrobssVF"
      },
      "source": [
        "# Run compression\n",
        "\n"
      ]
    },
    {
      "cell_type": "code",
      "execution_count": null,
      "metadata": {
        "id": "FmSUKmV-sqHg"
      },
      "outputs": [],
      "source": [
        "# @title Load models.\n",
        "# @markdown Investigate different augmentations or compression.\n",
        "# @markdown Because the models are larger when using augmentation, the parameters are different.\n",
        "test_augmentations = True # @param {type: 'boolean'}\n",
        "_BASE_PATH = 'https://storage.googleapis.com/dm_compressed_vision/models/' # @param {type: 'string'}\n",
        "_SAVE_PATH = '/tmp/' # @param {type: 'string'}\n",
        "\n",
        "if not test_augmentations:\n",
        "  # @markdown Controllable params in non augmentation mode.\n",
        "  augmentation_type = None\n",
        "  compression_rate = 192 # @param {type: 'integer'}\n",
        "  if compression_rate == 192:\n",
        "    model_path = f'{_BASE_PATH}compression/41861759_1_cr%3D192.pkl'\n",
        "  if compression_rate == 236:\n",
        "    model_path = f'{_BASE_PATH}compression/42071788_1_cr%3D236.pkl'\n",
        "  if compression_rate == 384:\n",
        "    model_path = f'{_BASE_PATH}compression/41877908_2_cr%3D384.pkl'\n",
        "  if compression_rate == 384:\n",
        "    model_path = f'{_BASE_PATH}compression/41748435_4_cr%3D786.pkl'\n",
        "  NUM_FRAMES = 32 # @param\n",
        "  BATCH_SIZE = 4\n",
        "elif test_augmentations:\n",
        "  # @markdown Controllable params in augmentation mode.\n",
        "  augmentation_type = 'flip' # @param {type: 'string'} ['flip']\n",
        "  if augmentation_type == 'flip':\n",
        "    model_path = f'{_BASE_PATH}augmentations/35225852_7_augm%3Dflip.pkl'\n",
        "  else:\n",
        "    raise ValueError(f\"Unexpected augmentation {augmentation_type}.\")\n",
        "\n",
        "!wget $model_path -O '/tmp/model_path.pkl'\n",
        "\n",
        "with open('/tmp/model_path.pkl', 'rb') as f:\n",
        "  all_params = checkpoint_loader.load_params_state(f)\n",
        "\n",
        "augm_params = all_params['augm_params']\n",
        "augm_state = all_params['augm_state']\n",
        "augm_config = all_params['augm_config']\n",
        "params = all_params['params']\n",
        "state = all_params['state']\n",
        "config = all_params['config']\n",
        "\n",
        "if augm_config is not None:\n",
        "  augm_config = augm_config.experiment_kwargs.config\n",
        "  NUM_FRAMES = augm_config.data.num_frames\n",
        "  BATCH_SIZE = 1\n",
        "\n",
        "exp_config = config.experiment_kwargs.config\n",
        "exp_config.data.train_batch_size = BATCH_SIZE\n",
        "exp_config.data.eval_batch_size = BATCH_SIZE\n",
        "exp_config.data.num_frames = NUM_FRAMES"
      ]
    },
    {
      "cell_type": "code",
      "execution_count": null,
      "metadata": {
        "collapsed": true,
        "id": "9cgjNQK5sw9h"
      },
      "outputs": [],
      "source": [
        "# @title Load a video to test on.\n",
        "VIDEO_TO_TEST = f'https://storage.googleapis.com/dm_compressed_vision/data/video8.gif'\n",
        "!wget $VIDEO_TO_TEST -O '/tmp/video.gif'\n",
        "\n",
        "# Load video.\n",
        "with open('/tmp/video.gif', 'rb') as f:\n",
        "  sample_video = Image.open(f)\n",
        "  sample_video.seek(0)\n",
        "\n",
        "  images = []\n",
        "  try:\n",
        "      while True:\n",
        "          images.append(np.asarray(sample_video.convert()))\n",
        "          sample_video.seek(sample_video.tell()+1)\n",
        "  except EOFError:\n",
        "      pass\n",
        "print(f'Length of video: {len(images)} frames.')\n",
        "sample_video = np.array(images)[:NUM_FRAMES][None, :] / 255.\n",
        "v = video_utils.video_reshaper(sample_video)\n",
        "video_utils.save_video((v * 255).astype(np.uint8), '/tmp/display.gif')\n",
        "display_image(filename='/tmp/display.gif', embed=True)"
      ]
    },
    {
      "cell_type": "code",
      "execution_count": null,
      "metadata": {
        "id": "es-tRoLtsyha"
      },
      "outputs": [],
      "source": [
        "# @title Encode-decode functions.\n",
        "def forward_codec_fn():\n",
        "  codec_model = encoder_decoder_unet.CompressionConvEncoderDecoder(\n",
        "      num_channels=3,\n",
        "      **exp_config.model_kwargs,\n",
        "  )\n",
        "  return codec_model, {\n",
        "      'encoder': codec_model.encode,\n",
        "      'decoder': codec_model.decode,\n",
        "  }\n",
        "\n",
        "_, codec_apply_fns = (\n",
        "    hk.multi_transform_with_state(forward_codec_fn)\n",
        ")\n",
        "codec_encoder = codec_apply_fns['encoder']\n",
        "codec_decoder = codec_apply_fns['decoder']\n",
        "\n",
        "encode_decode_jitted = jax.jit(\n",
        "    lambda x: data_utils.encode_decode(\n",
        "        codec_encoder=codec_encoder,\n",
        "        codec_decoder=codec_decoder,\n",
        "        codec_params=params,\n",
        "        codec_state=state,\n",
        "        inputs=x,\n",
        "    )\n",
        ")"
      ]
    },
    {
      "cell_type": "code",
      "execution_count": null,
      "metadata": {
        "id": "kZ3o5Nass0Kx"
      },
      "outputs": [],
      "source": [
        "# @title Run compression.\n",
        "decompressed_video, codes = encode_decode_jitted(sample_video)\n",
        "\n",
        "cpr = metric_utils.get_compression_rate(\n",
        "    sample_video,\n",
        "    codes,\n",
        "    bits_per_element=exp_config.model_kwargs.vq_num_embeddings,\n",
        ")\n",
        "print(f'Compression rate is {cpr}')\n",
        "print(f'Codes W x H is {codes[0].shape[2]} x {codes[0].shape[3]}')\n",
        "print(f'Codes channels is {codes[0].shape[-1]}')\n",
        "print(f'Codes time is {codes[0].shape[1]}')\n",
        "print(f'Decompressed space is {decompressed_video.shape}')"
      ]
    },
    {
      "cell_type": "code",
      "execution_count": null,
      "metadata": {
        "id": "AxmJqWals16R"
      },
      "outputs": [],
      "source": [
        "# @title Visualise reconstructed videos.\n",
        "e = video_utils.video_reshaper(decompressed_video)\n",
        "\n",
        "video_utils.save_video((e * 255).astype(np.uint8), '/tmp/display.gif')\n",
        "\n",
        "err = jnp.mean((sample_video - decompressed_video)**2)\n",
        "print(f'Mean L2-norm error is {err}')\n",
        "display_image(filename='/tmp/display.gif', embed=True)"
      ]
    },
    {
      "cell_type": "code",
      "execution_count": null,
      "metadata": {
        "id": "CauME0eYs3Qx"
      },
      "outputs": [],
      "source": [
        "# @title Save video.\n",
        "ds_name = VIDEO_TO_TEST.split('.')[0]\n",
        "\n",
        "MAIN_PATH = f'{_SAVE_PATH}{ds_name}/neural_codec-unet/'\n",
        "if not os.path.exists(MAIN_PATH):\n",
        "  os.makedirs(MAIN_PATH)\n",
        "name = os.path.basename(model_path).split('.')[0]\n",
        "\n",
        "path = f'{MAIN_PATH}/compression-{name}-combined.gif'\n",
        "video_utils.save_video((e * 255).astype(np.uint8), path)\n",
        "\n",
        "MAIN_PATH = f'{_SAVE_PATH}{ds_name}/raw_videos/'\n",
        "if not os.path.exists(MAIN_PATH):\n",
        "  os.makedirs(MAIN_PATH)\n",
        "path = f'{MAIN_PATH}/original-{name}.gif'\n",
        "video_utils.save_video((v * 255).astype(np.uint8), path)"
      ]
    },
    {
      "cell_type": "markdown",
      "metadata": {
        "id": "VVlWFCpYtCJx"
      },
      "source": [
        "# Run augmentations."
      ]
    },
    {
      "cell_type": "code",
      "execution_count": null,
      "metadata": {
        "id": "Q_RIdpM0s4sJ"
      },
      "outputs": [],
      "source": [
        "# @title Setup\n",
        "\n",
        "if augmentation_type == 'flip':\n",
        "  def get_augmentation(video):\n",
        "    bs, _, _, _, _ = video.shape\n",
        "    yes_flip = jnp.ones(shape=(bs, 1, 1))\n",
        "    return yes_flip\n",
        "  num_frames = 32\n",
        "  pixel_width = 256\n",
        "else:\n",
        "  raise ValueError(\n",
        "      \"Augmentation type must be set above to run this part of the CoLAB.\")\n"
      ]
    },
    {
      "cell_type": "code",
      "execution_count": null,
      "metadata": {
        "id": "PUFY3kLKs62a"
      },
      "outputs": [],
      "source": [
        "# @title Functions\n",
        "\n",
        "def forward_codec_fn():\n",
        "  codec_model = encoder_decoder_unet.CompressionConvEncoderDecoder(\n",
        "      num_channels=3,\n",
        "      **exp_config.model_kwargs,\n",
        "  )\n",
        "  return codec_model, {\n",
        "      'encoder': codec_model.encode,\n",
        "      'decoder': codec_model.decode,\n",
        "  }\n",
        "\n",
        "@hk.transform_with_state\n",
        "def get_codes(inputs):\n",
        "  sample_video = inputs['image']\n",
        "  _, codec_apply_fns = (\n",
        "      hk.multi_transform_with_state(forward_codec_fn)\n",
        "  )\n",
        "  codec_encoder = codec_apply_fns['encoder']\n",
        "  codec_decoder = codec_apply_fns['decoder']\n",
        "\n",
        "  _, quantized = data_utils.convert_im_to_codes(\n",
        "      codec_encoder=codec_encoder,\n",
        "      codec_params=params,\n",
        "      codec_state=state,\n",
        "      images=sample_video,\n",
        "      is_return_quantized=True,\n",
        "  )\n",
        "\n",
        "  transformation = inputs['transformation']\n",
        "  equivariant_model = equivariant_networks.get_equivariant_network(\n",
        "      augm_config.augmentation.network)\n",
        "  quantized_original = quantized\n",
        "  quantized = quantized[:, None].repeat(transformation.shape[1], 1)\n",
        "  transformation = transformation.reshape((-1, transformation.shape[2]))\n",
        "  quantized = quantized.reshape((transformation.shape[0],) +\n",
        "                                quantized.shape[2:])\n",
        "  transform_quantized = equivariant_model(\n",
        "      **augm_config.augmentation.kwargs)(quantized, transformation)\n",
        "\n",
        "  transform_reconstruction = data_utils.convert_codes_to_im(\n",
        "      codec_decoder=codec_decoder,\n",
        "      codec_params=params,\n",
        "      codec_state=state,\n",
        "      codes=transform_quantized,\n",
        "      is_quantized=True,\n",
        "      )\n",
        "\n",
        "  return transform_reconstruction"
      ]
    },
    {
      "cell_type": "code",
      "execution_count": null,
      "metadata": {
        "id": "nRdQBsLZs8eC"
      },
      "outputs": [],
      "source": [
        "# @title Run augmentation\n",
        "def _bcast_local_devices(array):\n",
        "    array = jax.tree_map(\n",
        "        lambda a: a[None, :].repeat(jax.local_device_count(), 0), array)\n",
        "    return array\n",
        "\n",
        "pmapped_codes = jax.pmap(jax.jit(get_codes.apply))\n",
        "bcast_augm_params = _bcast_local_devices(augm_params)\n",
        "bcast_augm_state = _bcast_local_devices(augm_state)\n",
        "bcast_rng = _bcast_local_devices(jax.random.PRNGKey(0))\n",
        "sample_inputs = _bcast_local_devices(sample_video)\n",
        "\n",
        "transformation = jax.vmap(get_augmentation)(sample_inputs)\n",
        "\n",
        "inputs = {\n",
        "    'image': (\n",
        "        sample_inputs[:,:,:num_frames,:pixel_width, :pixel_width]), \n",
        "    'transformation': transformation\n",
        "}\n",
        "\n",
        "(transform_reconstruction), _ = pmapped_codes(\n",
        "    bcast_augm_params, bcast_augm_state, bcast_rng, inputs)"
      ]
    },
    {
      "cell_type": "code",
      "execution_count": null,
      "metadata": {
        "id": "5kzvu7jEs-Ax"
      },
      "outputs": [],
      "source": [
        "# @title Visualise augmented videos with original video.\n",
        "video = np.concatenate((inputs['image'], transform_reconstruction), 1)\n",
        "v = video_utils.video_reshaper(video[0])\n",
        "\n",
        "video_utils.save_video((v * 255).astype(np.uint8), '/tmp/display.gif')\n",
        "display_image(filename='/tmp/display.gif', embed=True)"
      ]
    },
    {
      "cell_type": "code",
      "execution_count": null,
      "metadata": {
        "id": "7pWYo0W6s_ep"
      },
      "outputs": [],
      "source": [
        "# @title Save augmented video.\n",
        "ds_name = VIDEO_TO_TEST.split('.')[0]\n",
        "MAIN_PATH = f'{_SAVE_PATH}{ds_name}/neural_codec-unet/augmented/'\n",
        "if not os.path.exists(MAIN_PATH):\n",
        "  os.makedirs(MAIN_PATH)\n",
        "\n",
        "path = f'{MAIN_PATH}/compression-{name}-combined.gif'\n",
        "video_utils.save_video((v * 255).astype(np.uint8), path)"
      ]
    }
  ],
  "metadata": {
    "colab": {
      "provenance": []
    },
    "language_info": {
      "name": "python"
    },
    "kernelspec": {
      "name": "python3",
      "display_name": "Python 3"
    },
    "gpuClass": "standard"
  },
  "nbformat": 4,
  "nbformat_minor": 0
}