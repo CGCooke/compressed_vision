{
  "cells": [
    {
      "cell_type": "markdown",
      "metadata": {
        "id": "l6PINav84kV8"
      },
      "source": [
        "Copyright 2021 DeepMind Technologies Limited\n",
        "\n",
        "Licensed under the Apache License, Version 2.0 (the \"License\");\n",
        "you may not use this file except in compliance with the License.\n",
        "You may obtain a copy of the License at\n",
        "\n",
        "     https://www.apache.org/licenses/LICENSE-2.0\n",
        "\n",
        "Unless required by applicable law or agreed to in writing, software\n",
        "distributed under the License is distributed on an \"AS IS\" BASIS,\n",
        "WITHOUT WARRANTIES OR CONDITIONS OF ANY KIND, either express or implied.\n",
        "See the License for the specific language governing permissions and\n",
        "limitations under the License.\n"
      ]
    },
    {
      "cell_type": "markdown",
      "metadata": {
        "id": "XX7SJvSg4nhB"
      },
      "source": [
        "# Data Loading\n",
        "\n",
        "CoLAB demonstrating how to download and load compressed video data from Kinetics600.\n",
        "Download the data to be loaded from [here](https://www.deepmind.com/open-source/kinetics) into a folder and unzip the folder. Update `_DATA_FOLDER` to point to the unzipped folder."
      ]
    },
    {
      "cell_type": "code",
      "execution_count": null,
      "metadata": {
        "id": "QxKNfC2Z45Ap"
      },
      "outputs": [],
      "source": [
        "_DATA_FOLDER = '' # @param {type: 'string'}\n",
        "_SPLIT = 'train' # @param {type: 'string'} ['train', 'valid', 'test']"
      ]
    },
    {
      "cell_type": "code",
      "execution_count": null,
      "metadata": {
        "id": "kABc-G2AORud"
      },
      "outputs": [],
      "source": [
        "# @title Installation.\n",
        "# @markdown This can be skipped if you have installed and are running this locally.\n",
        "\n",
        "!pip install dm-haiku\n",
        "!pip install jax"
      ]
    },
    {
      "cell_type": "code",
      "execution_count": null,
      "metadata": {
        "id": "bnIhanvs49_m"
      },
      "outputs": [],
      "source": [
        "# @title Installation.\n",
        "# @markdown This can be skipped if you have installed and are running this locally.\n",
        "\n",
        "!mkdir /content/compressed_vision\n",
        "!touch /content/compressed_vision/__init__.py\n",
        "!mkdir /content/compressed_vision/utils/\n",
        "!touch /content/compressed_vision/utils/__init__.py\n",
        "!wget -O /content/compressed_vision/utils/video_utils.py https://raw.githubusercontent.com/deepmind/deepmind-research/master/compressed_vision/utils/video_utils.py"
      ]
    },
    {
      "cell_type": "code",
      "execution_count": null,
      "metadata": {
        "id": "N0HltpzFufIk"
      },
      "outputs": [],
      "source": [
        "# @title Imports\n",
        "import collections\n",
        "import json\n",
        "import os\n",
        "from typing import Iterable, List, Mapping\n",
        "import sklearn\n",
        "from sklearn import decomposition\n",
        "from IPython.display import Image as display_image\n",
        "\n",
        "import tensorflow as tf\n",
        "import pickle\n",
        "import jax\n",
        "import numpy as np\n",
        "import haiku as hk\n",
        "from PIL import Image\n",
        "\n",
        "from compressed_vision.utils import video_utils"
      ]
    },
    {
      "cell_type": "code",
      "execution_count": null,
      "metadata": {
        "id": "BrDftNqQuu0X"
      },
      "outputs": [],
      "source": [
        "# @title Load an example\n",
        "train_path = os.path.join(_DATA_FOLDER, f\"{_SPLIT}.tfrecord-*\")\n",
        "filenames = tf.data.Dataset.list_files(train_path, shuffle=True)\n",
        "\n",
        "ds = tf.data.TFRecordDataset(filenames)\n",
        "\n",
        "feature_dict = {\n",
        "    'video_id': tf.io.FixedLenFeature([], tf.string),\n",
        "    'start_sec': tf.io.FixedLenFeature([], tf.float32),\n",
        "    'end_sec': tf.io.FixedLenFeature([], tf.float32),\n",
        "    'compressed_repr': tf.io.FixedLenFeature([], tf.string),\n",
        "}\n",
        "\n",
        "if _SPLIT != 'test':\n",
        "  feature_dict.update({\n",
        "    'label': tf.io.FixedLenFeature([], tf.string),\n",
        "    'label_id': tf.io.FixedLenFeature([], tf.int64),})\n",
        "\n",
        "ds = ds.shuffle(buffer_size=100)\n",
        "\n",
        "def parse_example(row):\n",
        "  example = tf.io.parse_example(row, feature_dict)\n",
        "  example['compressed_repr'] = tf.io.parse_tensor(example['compressed_repr'], tf.uint8)\n",
        "  return example\n",
        "\n",
        "ds = ds.map(parse_example)\n",
        "batch = ds.take(2).batch(2)  # Return 2 batches each with 2 elements\n",
        "\n",
        "for item in batch:\n",
        "  for k, v in item.items():\n",
        "    if len(v.shape) \u003e 1:\n",
        "      print(k + ': ' + str(v.shape))\n",
        "    else:\n",
        "      print(k + ' ' + str(v.numpy()))\n"
      ]
    },
    {
      "cell_type": "code",
      "execution_count": null,
      "metadata": {
        "id": "BIjniRbH5nOv"
      },
      "outputs": [],
      "source": [
        "# @title Project codes of compressed representation to quantized representation.\n",
        "# @markdown And plot the PCA of this representation.\n",
        "\n",
        "!wget 'https://storage.googleapis.com/dm_compressed_vision/data_mappings/41861759_2_cr%3D192.pkl' -O /tmp/model_path.pkl\n",
        "\n",
        "with open('/tmp/model_path.pkl', 'rb') as f:\n",
        "  embed_state = pickle.load(f)\n",
        "\n",
        "def quantize(encoding_indices):\n",
        "  w = embed_state['embeddings'].swapaxes(1, 0)\n",
        "  w = jax.device_put(w)  # Required when embeddings is a NumPy array.\n",
        "  return w[(encoding_indices,)]\n",
        "\n",
        "quantizations = quantize(encoding_indices=item['compressed_repr'].numpy())\n",
        "pca_decomp = sklearn.decomposition.PCA(3)\n",
        "quantizations = quantizations[0, 0]\n",
        "x_new = pca_decomp.fit_transform(quantizations.reshape(-1, 256))\n",
        "x_new = x_new.reshape(quantizations.shape[:-1] + (3,))\n",
        "\n",
        "vis_x = (x_new - x_new.mean()) / (x_new.std()) + 0.5\n",
        "vis_x = np.clip(vis_x, 0, 1)\n",
        "\n",
        "v = video_utils.video_reshaper(vis_x)\n",
        "video_utils.save_video((v * 255).astype(np.uint8), '/tmp/display.gif')\n",
        "display_image(filename='/tmp/display.gif', embed=True)"
      ]
    }
  ],
  "nbformat": 4,
  "nbformat_minor": 0
}
